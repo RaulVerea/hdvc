{
  "cells": [
    {
      "cell_type": "markdown",
      "metadata": {
        "id": "NsrVCERiC-ev"
      },
      "source": [
        "Copyright (c) MONAI Consortium  \n",
        "Licensed under the Apache License, Version 2.0 (the \"License\");  \n",
        "you may not use this file except in compliance with the License.  \n",
        "You may obtain a copy of the License at  \n",
        "&nbsp;&nbsp;&nbsp;&nbsp;http://www.apache.org/licenses/LICENSE-2.0  \n",
        "Unless required by applicable law or agreed to in writing, software  \n",
        "distributed under the License is distributed on an \"AS IS\" BASIS,  \n",
        "WITHOUT WARRANTIES OR CONDITIONS OF ANY KIND, either express or implied.  \n",
        "See the License for the specific language governing permissions and  \n",
        "limitations under the License."
      ]
    },
    {
      "cell_type": "markdown",
      "metadata": {
        "id": "U1UStEAvC-ez"
      },
      "source": [
        "# Variational autoencoder network with MedNIST Dataset\n",
        "\n",
        "This notebook illustrates the use of the variational autoencoder in MONAI for the purpose of image deblurring/denoising.\n",
        "\n",
        "# Learning objectives\n",
        "This will go through the steps of using MONAI's in-built VarAutoEncoder.\n",
        "\n",
        "[![Open In Colab](https://colab.research.google.com/assets/colab-badge.svg)](https://colab.research.google.com/github/Project-MONAI/tutorials/blob/main/modules/varautoencoder_mednist.ipynb)"
      ]
    },
    {
      "cell_type": "markdown",
      "metadata": {
        "id": "PJ58LeZaC-ez"
      },
      "source": [
        "## Setup environment"
      ]
    },
    {
      "cell_type": "code",
      "execution_count": 1,
      "metadata": {
        "colab": {
          "base_uri": "https://localhost:8080/"
        },
        "id": "xEEJOuHaC-ez",
        "outputId": "64414a7f-ae8a-4849-ab65-936bf33f7145"
      },
      "outputs": [
        {
          "output_type": "stream",
          "name": "stdout",
          "text": [
            "Traceback (most recent call last):\n",
            "  File \"<string>\", line 1, in <module>\n",
            "ModuleNotFoundError: No module named 'monai'\n",
            "\u001b[2K   \u001b[90m━━━━━━━━━━━━━━━━━━━━━━━━━━━━━━━━━━━━━━━━\u001b[0m \u001b[32m363.4/363.4 MB\u001b[0m \u001b[31m2.2 MB/s\u001b[0m eta \u001b[36m0:00:00\u001b[0m\n",
            "\u001b[2K   \u001b[90m━━━━━━━━━━━━━━━━━━━━━━━━━━━━━━━━━━━━━━━━\u001b[0m \u001b[32m13.8/13.8 MB\u001b[0m \u001b[31m47.7 MB/s\u001b[0m eta \u001b[36m0:00:00\u001b[0m\n",
            "\u001b[2K   \u001b[90m━━━━━━━━━━━━━━━━━━━━━━━━━━━━━━━━━━━━━━━━\u001b[0m \u001b[32m24.6/24.6 MB\u001b[0m \u001b[31m33.6 MB/s\u001b[0m eta \u001b[36m0:00:00\u001b[0m\n",
            "\u001b[2K   \u001b[90m━━━━━━━━━━━━━━━━━━━━━━━━━━━━━━━━━━━━━━━━\u001b[0m \u001b[32m883.7/883.7 kB\u001b[0m \u001b[31m27.5 MB/s\u001b[0m eta \u001b[36m0:00:00\u001b[0m\n",
            "\u001b[2K   \u001b[90m━━━━━━━━━━━━━━━━━━━━━━━━━━━━━━━━━━━━━━━━\u001b[0m \u001b[32m664.8/664.8 MB\u001b[0m \u001b[31m2.9 MB/s\u001b[0m eta \u001b[36m0:00:00\u001b[0m\n",
            "\u001b[2K   \u001b[90m━━━━━━━━━━━━━━━━━━━━━━━━━━━━━━━━━━━━━━━━\u001b[0m \u001b[32m211.5/211.5 MB\u001b[0m \u001b[31m7.5 MB/s\u001b[0m eta \u001b[36m0:00:00\u001b[0m\n",
            "\u001b[2K   \u001b[90m━━━━━━━━━━━━━━━━━━━━━━━━━━━━━━━━━━━━━━━━\u001b[0m \u001b[32m56.3/56.3 MB\u001b[0m \u001b[31m11.6 MB/s\u001b[0m eta \u001b[36m0:00:00\u001b[0m\n",
            "\u001b[2K   \u001b[90m━━━━━━━━━━━━━━━━━━━━━━━━━━━━━━━━━━━━━━━━\u001b[0m \u001b[32m127.9/127.9 MB\u001b[0m \u001b[31m6.1 MB/s\u001b[0m eta \u001b[36m0:00:00\u001b[0m\n",
            "\u001b[2K   \u001b[90m━━━━━━━━━━━━━━━━━━━━━━━━━━━━━━━━━━━━━━━━\u001b[0m \u001b[32m207.5/207.5 MB\u001b[0m \u001b[31m5.7 MB/s\u001b[0m eta \u001b[36m0:00:00\u001b[0m\n",
            "\u001b[2K   \u001b[90m━━━━━━━━━━━━━━━━━━━━━━━━━━━━━━━━━━━━━━━━\u001b[0m \u001b[32m21.1/21.1 MB\u001b[0m \u001b[31m58.7 MB/s\u001b[0m eta \u001b[36m0:00:00\u001b[0m\n",
            "\u001b[2K   \u001b[90m━━━━━━━━━━━━━━━━━━━━━━━━━━━━━━━━━━━━━━━━\u001b[0m \u001b[32m2.6/2.6 MB\u001b[0m \u001b[31m47.1 MB/s\u001b[0m eta \u001b[36m0:00:00\u001b[0m\n",
            "\u001b[?25h"
          ]
        }
      ],
      "source": [
        "!python -c \"import monai\" || pip install -q \"monai-weekly[pillow]\""
      ]
    },
    {
      "cell_type": "markdown",
      "metadata": {
        "id": "vv1s-hYBC-e0"
      },
      "source": [
        "## Setup imports"
      ]
    },
    {
      "cell_type": "code",
      "execution_count": 2,
      "metadata": {
        "tags": [],
        "colab": {
          "base_uri": "https://localhost:8080/"
        },
        "id": "vIo9zaoxC-e0",
        "outputId": "21942c6c-cfe2-4991-847f-7fea5d8b3e4e"
      },
      "outputs": [
        {
          "output_type": "stream",
          "name": "stdout",
          "text": [
            "MONAI version: 1.5.dev2509\n",
            "Numpy version: 1.26.4\n",
            "Pytorch version: 2.5.1+cu124\n",
            "MONAI flags: HAS_EXT = False, USE_COMPILED = False, USE_META_DICT = False\n",
            "MONAI rev id: 5f85a7bfd54b91be03213999a7c177bfe2d583b2\n",
            "MONAI __file__: /usr/local/lib/python3.11/dist-packages/monai/__init__.py\n",
            "\n",
            "Optional dependencies:\n",
            "Pytorch Ignite version: NOT INSTALLED or UNKNOWN VERSION.\n",
            "ITK version: NOT INSTALLED or UNKNOWN VERSION.\n",
            "Nibabel version: 5.3.2\n",
            "scikit-image version: 0.25.2\n",
            "scipy version: 1.13.1\n",
            "Pillow version: 11.1.0\n",
            "Tensorboard version: 2.18.0\n",
            "gdown version: 5.2.0\n",
            "TorchVision version: 0.20.1+cu124\n",
            "tqdm version: 4.67.1\n",
            "lmdb version: NOT INSTALLED or UNKNOWN VERSION.\n",
            "psutil version: 5.9.5\n",
            "pandas version: 2.2.2\n",
            "einops version: 0.8.1\n",
            "transformers version: 4.48.3\n",
            "mlflow version: NOT INSTALLED or UNKNOWN VERSION.\n",
            "pynrrd version: NOT INSTALLED or UNKNOWN VERSION.\n",
            "clearml version: NOT INSTALLED or UNKNOWN VERSION.\n",
            "\n",
            "For details about installing the optional dependencies, please visit:\n",
            "    https://docs.monai.io/en/latest/installation.html#installing-the-recommended-dependencies\n",
            "\n"
          ]
        }
      ],
      "source": [
        "import time\n",
        "import pylab as pl\n",
        "from IPython import display\n",
        "import logging\n",
        "import os\n",
        "import shutil\n",
        "import sys\n",
        "import tempfile\n",
        "import random\n",
        "import numpy as np\n",
        "from tqdm import trange\n",
        "import matplotlib.pyplot as plt\n",
        "import torch\n",
        "from urllib.request import urlretrieve\n",
        "import gzip\n",
        "from PIL import Image\n",
        "\n",
        "from monai.apps import download_and_extract\n",
        "from monai.config import print_config\n",
        "from monai.data import CacheDataset, DataLoader\n",
        "from monai.networks.nets import VarAutoEncoder\n",
        "from monai.transforms import (\n",
        "    EnsureChannelFirstD,\n",
        "    Compose,\n",
        "    LoadImageD,\n",
        "    ScaleIntensityD,\n",
        "    EnsureTypeD,\n",
        ")\n",
        "from monai.utils import set_determinism\n",
        "\n",
        "print_config()"
      ]
    },
    {
      "cell_type": "markdown",
      "metadata": {
        "id": "EKXcZxwVC-e1"
      },
      "source": [
        "## Setup data directory\n",
        "\n",
        "You can specify a directory with the `MONAI_DATA_DIRECTORY` environment variable.  \n",
        "This allows you to save results and reuse downloads.  \n",
        "If not specified a temporary directory will be used."
      ]
    },
    {
      "cell_type": "code",
      "execution_count": 3,
      "metadata": {
        "colab": {
          "base_uri": "https://localhost:8080/"
        },
        "id": "4WFPZg7nC-e1",
        "outputId": "853ca773-61be-4c37-c88b-9e8ee8391554"
      },
      "outputs": [
        {
          "output_type": "stream",
          "name": "stdout",
          "text": [
            "/tmp/tmp21cb1res\n"
          ]
        }
      ],
      "source": [
        "directory = os.environ.get(\"MONAI_DATA_DIRECTORY\")\n",
        "if directory is not None:\n",
        "    os.makedirs(directory, exist_ok=True)\n",
        "root_dir = tempfile.mkdtemp() if directory is None else directory\n",
        "print(root_dir)"
      ]
    },
    {
      "cell_type": "code",
      "execution_count": 4,
      "metadata": {
        "id": "ZmVSVEsMC-e1"
      },
      "outputs": [],
      "source": [
        "logging.basicConfig(stream=sys.stdout, level=logging.INFO)\n",
        "set_determinism(0)\n",
        "device = torch.device(\"cuda\" if torch.cuda.is_available() else \"cpu\")"
      ]
    },
    {
      "cell_type": "code",
      "execution_count": 5,
      "metadata": {
        "id": "YUJoUjNGC-e2"
      },
      "outputs": [],
      "source": [
        "# Create small visualisation function\n",
        "def plot_ims(ims, shape=None, figsize=(10, 10), titles=None):\n",
        "    shape = (1, len(ims)) if shape is None else shape\n",
        "    plt.subplots(*shape, figsize=figsize)\n",
        "    for i, im in enumerate(ims):\n",
        "        plt.subplot(*shape, i + 1)\n",
        "        im = plt.imread(im) if isinstance(im, str) else torch.squeeze(im)\n",
        "        plt.imshow(im, cmap=\"gray\")\n",
        "        if titles is not None:\n",
        "            plt.title(titles[i])\n",
        "        plt.axis(\"off\")\n",
        "    plt.tight_layout()\n",
        "    plt.show()"
      ]
    },
    {
      "cell_type": "markdown",
      "metadata": {
        "id": "xJjdwCBYC-e2"
      },
      "source": [
        "# 1. Get the data\n",
        "\n",
        "This notebook can use the MedNIST or the MNIST datasets.\n",
        "<br>\n",
        "<br>\n",
        "<br>\n",
        "The MedNIST dataset was gathered from several sets from [TCIA](https://wiki.cancerimagingarchive.net/display/Public/Data+Usage+Policies+and+Restrictions),\n",
        "[the RSNA Bone Age Challenge](http://rsnachallenges.cloudapp.net/competitions/4),\n",
        "and [the NIH Chest X-ray dataset](https://cloud.google.com/healthcare/docs/resources/public-datasets/nih-chest).\n",
        "\n",
        "The dataset is kindly made available by [Dr. Bradley J. Erickson M.D., Ph.D.](https://www.mayo.edu/research/labs/radiology-informatics/overview) (Department of Radiology, Mayo Clinic)\n",
        "under the Creative Commons [CC BY-SA 4.0 license](https://creativecommons.org/licenses/by-sa/4.0/)."
      ]
    },
    {
      "cell_type": "code",
      "execution_count": 6,
      "metadata": {
        "tags": [],
        "id": "-m78xSywC-e2"
      },
      "outputs": [],
      "source": [
        "def get_mednist_data(mednist_folder):\n",
        "    resource = \"https://github.com/Project-MONAI/MONAI-extra-test-data/releases/download/0.8.1/MedNIST.tar.gz\"\n",
        "    md5 = \"0bc7306e7427e00ad1c5526a6677552d\"\n",
        "\n",
        "    compressed_file = os.path.join(root_dir, \"MedNIST.tar.gz\")\n",
        "    if not os.path.exists(mednist_folder):\n",
        "        download_and_extract(resource, compressed_file, root_dir, md5)"
      ]
    },
    {
      "cell_type": "code",
      "execution_count": 7,
      "metadata": {
        "id": "QFsaVR-NC-e2"
      },
      "outputs": [],
      "source": [
        "def get_mnist_data(mnist_folder):\n",
        "    if not os.path.exists(mnist_folder):\n",
        "        os.makedirs(mnist_folder)\n",
        "    if len(os.listdir(mnist_folder)) < 60000:\n",
        "        mnist_fname = os.path.join(root_dir, \"MNIST.gz\")\n",
        "        if not os.path.exists(mnist_fname):\n",
        "            mnist_train_url = \"http://yann.lecun.com/\" + \"exdb/mnist/train-images-idx3-ubyte.gz\"\n",
        "            urlretrieve(mnist_train_url, mnist_fname)\n",
        "        f = gzip.open(mnist_fname, \"r\")\n",
        "        f.read(16)  # Skip first 16 bytes\n",
        "        image_size = 28\n",
        "        num_images = 60000\n",
        "        buf = f.read(image_size * image_size * num_images)\n",
        "        data = np.frombuffer(buf, dtype=np.uint8).astype(np.float32)\n",
        "        data = data.reshape(num_images, image_size, image_size)\n",
        "\n",
        "    for i in trange(data.shape[0]):\n",
        "        im = np.squeeze(data[i])\n",
        "        rescaled = (255.0 / im.max() * (im - im.min())).astype(np.uint8)\n",
        "        pil_im = Image.fromarray(rescaled)\n",
        "        pil_im.save(os.path.join(mnist_folder, f\"mnist_{i}.png\"))"
      ]
    },
    {
      "cell_type": "code",
      "execution_count": 8,
      "metadata": {
        "colab": {
          "base_uri": "https://localhost:8080/",
          "height": 741
        },
        "id": "5u-19Uh-C-e2",
        "outputId": "9c7dc0fc-8c94-4aac-a9d0-70fcaa7082d4"
      },
      "outputs": [
        {
          "output_type": "stream",
          "name": "stderr",
          "text": [
            "MedNIST.tar.gz: 59.0MB [00:01, 58.4MB/s]                            "
          ]
        },
        {
          "output_type": "stream",
          "name": "stdout",
          "text": [
            "2025-03-07 10:09:41,079 - INFO - Downloaded: /tmp/tmp21cb1res/MedNIST.tar.gz\n"
          ]
        },
        {
          "output_type": "stream",
          "name": "stderr",
          "text": [
            "\n"
          ]
        },
        {
          "output_type": "stream",
          "name": "stdout",
          "text": [
            "2025-03-07 10:09:41,227 - INFO - Verified 'MedNIST.tar.gz', md5: 0bc7306e7427e00ad1c5526a6677552d.\n",
            "2025-03-07 10:09:41,228 - INFO - Writing into directory: /tmp/tmp21cb1res.\n"
          ]
        },
        {
          "output_type": "display_data",
          "data": {
            "text/plain": [
              "<Figure size 1000x1000 with 8 Axes>"
            ],
            "image/png": "[encoded data removed]"
          },
          "metadata": {}
        }
      ],
      "source": [
        "use_mnist = False\n",
        "if use_mnist:\n",
        "    im_dir = os.path.join(root_dir, \"MNIST\")\n",
        "    get_mnist_data(im_dir)\n",
        "else:\n",
        "    data_dir = os.path.join(root_dir, \"MedNIST\")\n",
        "    get_mednist_data(data_dir)\n",
        "    # could be any combination of\n",
        "    # [\"AbdomenCT\", \"BreastMRI\", \"CXR\", \"ChestCT\", \"Hand\", \"HeadCT\"]\n",
        "    scan_types = [\"Hand\", \"HeadCT\"]\n",
        "    all_filenames = []\n",
        "    for scan_type in scan_types:\n",
        "        im_dir = os.path.join(data_dir, scan_type)\n",
        "        all_filenames += [os.path.join(im_dir, filename) for filename in os.listdir(im_dir)]\n",
        "random.shuffle(all_filenames)\n",
        "\n",
        "# Visualise a few of them\n",
        "rand_images = np.random.choice(all_filenames, 8, replace=False)\n",
        "plot_ims(rand_images, shape=(2, 4))"
      ]
    },
    {
      "cell_type": "code",
      "execution_count": 9,
      "metadata": {
        "colab": {
          "base_uri": "https://localhost:8080/"
        },
        "id": "rt_qzOy_C-e3",
        "outputId": "6fe50fee-f2d1-4c09-b789-7162ceafc304"
      },
      "outputs": [
        {
          "output_type": "stream",
          "name": "stdout",
          "text": [
            "total number of images: 20000\n",
            "number of images for training: 16000\n",
            "number of images for testing: 4000\n"
          ]
        }
      ],
      "source": [
        "# Split into training and testing\n",
        "test_frac = 0.2\n",
        "num_ims = len(all_filenames)\n",
        "num_test = int(num_ims * test_frac)\n",
        "num_train = num_ims - num_test\n",
        "train_datadict = [{\"im\": fname} for fname in all_filenames[:num_train]]\n",
        "test_datadict = [{\"im\": fname} for fname in all_filenames[-num_test:]]\n",
        "print(f\"total number of images: {num_ims}\")\n",
        "print(f\"number of images for training: {len(train_datadict)}\")\n",
        "print(f\"number of images for testing: {len(test_datadict)}\")"
      ]
    },
    {
      "cell_type": "markdown",
      "metadata": {
        "id": "yBhuEy_yC-e3"
      },
      "source": [
        "# 2. Create dataset and dataloader\n",
        "\n",
        "Hold data and present batches during training."
      ]
    },
    {
      "cell_type": "code",
      "execution_count": 10,
      "metadata": {
        "tags": [],
        "colab": {
          "base_uri": "https://localhost:8080/"
        },
        "id": "JGqUI1ddC-e3",
        "outputId": "8ea02e44-916e-4dac-b2b5-0d1cec3b70e9"
      },
      "outputs": [
        {
          "output_type": "stream",
          "name": "stderr",
          "text": [
            "Loading dataset: 100%|██████████| 16000/16000 [00:31<00:00, 505.20it/s]\n",
            "/usr/local/lib/python3.11/dist-packages/torch/utils/data/dataloader.py:617: UserWarning: This DataLoader will create 10 worker processes in total. Our suggested max number of worker in current system is 2, which is smaller than what this DataLoader is going to create. Please be aware that excessive worker creation might get DataLoader running slow or even freeze, lower the worker number to avoid potential slowness/freeze if necessary.\n",
            "  warnings.warn(\n",
            "Loading dataset: 100%|██████████| 4000/4000 [00:07<00:00, 531.11it/s]\n"
          ]
        }
      ],
      "source": [
        "batch_size = 128\n",
        "num_workers = 10\n",
        "\n",
        "transforms = Compose(\n",
        "    [\n",
        "        LoadImageD(keys=[\"im\"]),\n",
        "        EnsureChannelFirstD(keys=[\"im\"]),\n",
        "        ScaleIntensityD(keys=[\"im\"]),\n",
        "        EnsureTypeD(keys=[\"im\"]),\n",
        "    ]\n",
        ")\n",
        "\n",
        "train_ds = CacheDataset(train_datadict, transforms, num_workers=num_workers)\n",
        "train_loader = DataLoader(train_ds, batch_size=batch_size, shuffle=True, num_workers=num_workers)\n",
        "test_ds = CacheDataset(test_datadict, transforms, num_workers=num_workers)\n",
        "test_loader = DataLoader(test_ds, batch_size=batch_size, shuffle=True, num_workers=num_workers)"
      ]
    },
    {
      "cell_type": "markdown",
      "metadata": {
        "id": "yhlyTXTIC-e3"
      },
      "source": [
        "# 3. Train\n",
        "\n",
        "For our loss we'll want to use a combination of a reconstruction loss (here, BCE) and KLD. By increasing the importance of the KLD loss with `beta`, we encourage the network to disentangle the latent generative factors."
      ]
    },
    {
      "cell_type": "code",
      "execution_count": 11,
      "metadata": {
        "scrolled": false,
        "id": "pmrU2risC-e3"
      },
      "outputs": [],
      "source": [
        "BCELoss = torch.nn.BCELoss(reduction=\"sum\")\n",
        "\n",
        "\n",
        "def loss_function(recon_x, x, mu, log_var, beta):\n",
        "    bce = BCELoss(recon_x, x)\n",
        "    kld = -0.5 * beta * torch.sum(1 + log_var - mu.pow(2) - log_var.exp())\n",
        "    return bce + kld\n",
        "\n",
        "\n",
        "def train(in_shape, max_epochs, latent_size, learning_rate, beta):\n",
        "    model = VarAutoEncoder(\n",
        "        spatial_dims=2,\n",
        "        in_shape=in_shape,\n",
        "        out_channels=1,\n",
        "        latent_size=latent_size,\n",
        "        channels=(16, 32, 64),\n",
        "        strides=(1, 2, 2),\n",
        "    ).to(device)\n",
        "\n",
        "    # Create optimiser\n",
        "    optimizer = torch.optim.Adam(model.parameters(), learning_rate)\n",
        "\n",
        "    avg_train_losses = []\n",
        "    test_losses = []\n",
        "\n",
        "    t = trange(max_epochs, leave=True, desc=\"epoch 0, average train loss: ?, test loss: ?\")\n",
        "    for epoch in t:\n",
        "        model.train()\n",
        "        epoch_loss = 0\n",
        "        for batch_data in train_loader:\n",
        "            inputs = batch_data[\"im\"].to(device)\n",
        "            optimizer.zero_grad()\n",
        "\n",
        "            recon_batch, mu, log_var, _ = model(inputs)\n",
        "            loss = loss_function(recon_batch, inputs, mu, log_var, beta)\n",
        "            loss.backward()\n",
        "            optimizer.step()\n",
        "            epoch_loss += loss.item()\n",
        "        avg_train_losses.append(epoch_loss / len(train_loader.dataset))\n",
        "\n",
        "        # Test\n",
        "        model.eval()\n",
        "        test_loss = 0\n",
        "        with torch.no_grad():\n",
        "            for batch_data in test_loader:\n",
        "                inputs = batch_data[\"im\"].to(device)\n",
        "                recon, mu, log_var, _ = model(inputs)\n",
        "                # sum up batch loss\n",
        "                test_loss += loss_function(recon, inputs, mu, log_var, beta).item()\n",
        "        test_losses.append(test_loss / len(test_loader.dataset))\n",
        "\n",
        "        t.set_description(  # noqa: B038\n",
        "            f\"epoch {epoch + 1}, average train loss: \" f\"{avg_train_losses[-1]:.4f}, test loss: {test_losses[-1]:.4f}\"\n",
        "        )\n",
        "    return model, avg_train_losses, test_losses"
      ]
    },
    {
      "cell_type": "code",
      "execution_count": null,
      "metadata": {
        "colab": {
          "base_uri": "https://localhost:8080/"
        },
        "id": "Ewc-4MR1C-e3",
        "outputId": "e4ada2f0-c9dc-4850-bb1a-c280a8c54172"
      },
      "outputs": [
        {
          "output_type": "stream",
          "name": "stderr",
          "text": [
            "epoch 23, average train loss: 1959.7521, test loss: 1955.3325:  46%|████▌     | 23/50 [1:17:30<1:30:30, 201.13s/it]"
          ]
        }
      ],
      "source": [
        "max_epochs = 50\n",
        "learning_rate = 1e-4\n",
        "beta = 100  # KL beta weighting. increase for disentangled VAE\n",
        "latent_size = 2\n",
        "# VAE constructor needs image shape\n",
        "im_shape = transforms(train_datadict[0])[\"im\"].shape\n",
        "model, avg_train_losses, test_losses = train(im_shape, max_epochs, latent_size, learning_rate, beta)"
      ]
    },
    {
      "cell_type": "code",
      "execution_count": null,
      "metadata": {
        "id": "2hmaeZiDC-e3"
      },
      "outputs": [],
      "source": [
        "plt.figure()\n",
        "plt.title(\"Epoch losses\")\n",
        "plt.xlabel(\"Epoch\")\n",
        "plt.ylabel(\"Loss\")\n",
        "for y, label in zip([avg_train_losses, test_losses], [\"avg train loss\", \"test loss\"]):\n",
        "    x = list(range(1, len(y) + 1))\n",
        "    (line,) = plt.plot(x, y)\n",
        "    line.set_label(label)\n",
        "plt.legend()"
      ]
    },
    {
      "cell_type": "markdown",
      "metadata": {
        "id": "WI5MPbzYC-e4"
      },
      "source": [
        "# Scatter plot distribution\n",
        "Take each of the images in the training and test datasets and plot where they fit into the distribution (for latent size of 2 or 3)."
      ]
    },
    {
      "cell_type": "code",
      "execution_count": null,
      "metadata": {
        "scrolled": true,
        "id": "4K8TGjxeC-e4"
      },
      "outputs": [],
      "source": [
        "for j, loader in enumerate([train_loader, test_loader]):\n",
        "    for i, batch_data in enumerate(loader):\n",
        "        inputs = batch_data[\"im\"].to(device)\n",
        "        o = model.reparameterize(*model.encode_forward(inputs)).detach().cpu().numpy()\n",
        "        if i + j == 0:\n",
        "            latent_coords = o\n",
        "        else:\n",
        "            np.vstack((latent_coords, o))\n",
        "\n",
        "if latent_size < 4:\n",
        "    fig = plt.figure()\n",
        "    if latent_size == 2:\n",
        "        plt.scatter(latent_coords[:, 0], latent_coords[:, 1], c=\"r\", marker=\"o\")\n",
        "    elif latent_size == 3:\n",
        "        ax = fig.add_subplot(111, projection=\"3d\")\n",
        "        ax.scatter(latent_coords[:, 0], latent_coords[:, 1], latent_coords[:, 2], c=\"r\", marker=\"o\")\n",
        "        ax.set_xlabel(\"dim 1\")\n",
        "        ax.set_ylabel(\"dim 2\")\n",
        "        ax.set_zlabel(\"dim 3\")"
      ]
    },
    {
      "cell_type": "markdown",
      "metadata": {
        "id": "qlg9luN9C-e4"
      },
      "source": [
        "# Visualise images produced by sampling the latent space\n",
        "Visualising high dimensional data can always be tricky. If our latent size is 2, this is easy as we can vary `x` and `y` and see their effect on the generated image. For higher dimension data, one approach might be to vary two of the variables and fix the rest at 0, i.e., create a 2D slice through the N-dimensional data."
      ]
    },
    {
      "cell_type": "code",
      "execution_count": null,
      "metadata": {
        "id": "UPrPkjQxC-e4"
      },
      "outputs": [],
      "source": [
        "%matplotlib inline\n",
        "num_ims = 10\n",
        "pl.figure(figsize=(20, 12))\n",
        "out = [[[] for _ in range(num_ims)] for _ in range(latent_size - 1)]\n",
        "dist = torch.distributions.normal.Normal(torch.tensor(0.0), torch.tensor(1.0))\n",
        "model.eval()\n",
        "with torch.no_grad():\n",
        "    for z in range(latent_size - 1):\n",
        "        for z in range(latent_size - 1):\n",
        "            for y, j in enumerate(torch.linspace(0.05, 0.95, num_ims)):\n",
        "                for i in torch.linspace(0.05, 0.95, num_ims):\n",
        "                    sample = torch.zeros(1, latent_size).to(device)\n",
        "                    sample[0, z] = dist.icdf(j)\n",
        "                    sample[0, z + 1] = dist.icdf(i)\n",
        "                    o = model.decode_forward(sample)\n",
        "                    o = o.detach().cpu().numpy().reshape(im_shape[1:])\n",
        "                    out[z][y].append(o)\n",
        "\n",
        "slices = np.block(out)\n",
        "\n",
        "%matplotlib inline\n",
        "pl.figure(figsize=(20, 12))\n",
        "for i in range(slices.shape[0]):\n",
        "    pl.imshow(slices[i])\n",
        "    pl.title(f\"slice through dims {i} and {i+1} (through centre of other dims)\")\n",
        "    if slices.shape[0] > 1:\n",
        "        display.clear_output(wait=True)\n",
        "        display.display(pl.gcf())\n",
        "        time.sleep(0.1)"
      ]
    },
    {
      "cell_type": "markdown",
      "source": [
        "#Exercise\n"
      ],
      "metadata": {
        "id": "zOqCvE5QEMHw"
      }
    },
    {
      "cell_type": "code",
      "source": [
        "# Supongamos que 'data_dir' ya fue definido previamente, similar a tus otros datos\n",
        "breast_dir = os.path.join(data_dir, \"BreastMRI\")\n",
        "filenames_breast = [os.path.join(breast_dir, filename) for filename in os.listdir(breast_dir)]\n",
        "random.shuffle(filenames_breast)\n",
        "\n",
        "# Visualizar algunas imágenes de pechos\n",
        "rand_images_breast = np.random.choice(filenames_breast, 8, replace=False)\n",
        "plot_ims(rand_images_breast, shape=(2, 4))"
      ],
      "metadata": {
        "id": "xaRCQX75EQEz"
      },
      "execution_count": null,
      "outputs": []
    },
    {
      "cell_type": "code",
      "source": [
        "breast_datadict = [{\"im\": filename} for filename in filenames_breast]  # Asegúrate de tener una lista similar\n",
        "\n",
        "breast_ds = CacheDataset(breast_datadict, transforms, num_workers=num_workers)\n",
        "breast_loader = DataLoader(breast_ds, batch_size=batch_size, shuffle=False, num_workers=num_workers)\n"
      ],
      "metadata": {
        "id": "UeXwWIoXEgzM"
      },
      "execution_count": null,
      "outputs": []
    },
    {
      "cell_type": "code",
      "source": [
        "# Espacio latente para manos y cabezas\n",
        "latent_coords = None\n",
        "\n",
        "for j, loader in enumerate([train_loader, test_loader]):\n",
        "    for i, batch_data in enumerate(loader):\n",
        "        inputs = batch_data[\"im\"].to(device)\n",
        "        # Supongo que 'model.encode_forward' y 'model.reparameterize' devuelven lo necesario\n",
        "        o = model.reparameterize(*model.encode_forward(inputs)).detach().cpu().numpy()\n",
        "        if latent_coords is None:\n",
        "            latent_coords = o\n",
        "        else:\n",
        "            latent_coords = np.vstack((latent_coords, o))\n",
        "\n",
        "# Espacio latente para pechos\n",
        "breast_latent_coords = None\n",
        "\n",
        "for i, batch_data in enumerate(breast_loader):\n",
        "    inputs = batch_data[\"im\"].to(device)\n",
        "    o = model.reparameterize(*model.encode_forward(inputs)).detach().cpu().numpy()\n",
        "    if breast_latent_coords is None:\n",
        "        breast_latent_coords = o\n",
        "    else:\n",
        "        breast_latent_coords = np.vstack((breast_latent_coords, o))\n"
      ],
      "metadata": {
        "id": "Xk5FygXtEXBy"
      },
      "execution_count": null,
      "outputs": []
    },
    {
      "cell_type": "code",
      "source": [
        "if latent_size == 2:\n",
        "    plt.figure(figsize=(8, 6))\n",
        "    # Datos de entrenamiento (manos y cabezas) en rojo\n",
        "    plt.scatter(latent_coords[:, 0], latent_coords[:, 1], c=\"r\", marker=\"o\", label=\"Manos y Cabezas\")\n",
        "    # Datos de pechos en azul\n",
        "    plt.scatter(breast_latent_coords[:, 0], breast_latent_coords[:, 1], c=\"b\", marker=\"^\", label=\"Pechos (O.o.D)\")\n",
        "    plt.legend()\n",
        "    plt.xlabel(\"Dim 1\")\n",
        "    plt.ylabel(\"Dim 2\")\n",
        "    plt.title(\"Espacio Latente: Datos de entrenamiento vs Out-of-Distribution\")\n",
        "    plt.show()\n",
        "elif latent_size == 3:\n",
        "    from mpl_toolkits.mplot3d import Axes3D\n",
        "    fig = plt.figure(figsize=(10, 8))\n",
        "    ax = fig.add_subplot(111, projection=\"3d\")\n",
        "    ax.scatter(latent_coords[:, 0], latent_coords[:, 1], latent_coords[:, 2], c=\"r\", marker=\"o\", label=\"Manos y Cabezas\")\n",
        "    ax.scatter(breast_latent_coords[:, 0], breast_latent_coords[:, 1], breast_latent_coords[:, 2], c=\"b\", marker=\"^\", label=\"Pechos (O.o.D)\")\n",
        "    ax.set_xlabel(\"Dim 1\")\n",
        "    ax.set_ylabel(\"Dim 2\")\n",
        "    ax.set_zlabel(\"Dim 3\")\n",
        "    ax.legend()\n",
        "    plt.title(\"Espacio Latente: Datos de entrenamiento vs Out-of-Distribution\")\n",
        "    plt.show()\n"
      ],
      "metadata": {
        "id": "PRL3eL8iEcD6"
      },
      "execution_count": null,
      "outputs": []
    },
    {
      "cell_type": "markdown",
      "metadata": {
        "id": "B2hS09zYC-e4"
      },
      "source": [
        "## Cleanup data directory\n",
        "\n",
        "Remove directory if a temporary was used."
      ]
    },
    {
      "cell_type": "code",
      "execution_count": null,
      "metadata": {
        "pycharm": {
          "is_executing": true
        },
        "id": "odJUFrdGC-e4"
      },
      "outputs": [],
      "source": [
        "if directory is None:\n",
        "    shutil.rmtree(root_dir)"
      ]
    }
  ],
  "metadata": {
    "kernelspec": {
      "display_name": "Python 3 (ipykernel)",
      "language": "python",
      "name": "python3"
    },
    "language_info": {
      "codemirror_mode": {
        "name": "ipython",
        "version": 3
      },
      "file_extension": ".py",
      "mimetype": "text/x-python",
      "name": "python",
      "nbconvert_exporter": "python",
      "pygments_lexer": "ipython3",
      "version": "3.8.13"
    },
    "colab": {
      "provenance": []
    }
  },
  "nbformat": 4,
  "nbformat_minor": 0
}